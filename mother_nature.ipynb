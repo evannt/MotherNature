{
 "cells": [
  {
   "cell_type": "code",
   "execution_count": null,
   "metadata": {},
   "outputs": [],
   "source": [
    "# imports\n",
    "import pandas as pd\n",
    "import matplotlib.pyplot as plt\n",
    "import seaborn as sns\n",
    "from datetime import datetime\n",
    "\n",
    "city_daily_temperature_df = pd.read_csv(\"Datasets/city-daily-temperature.csv\")\n",
    "global_country_info_df = pd.read_csv(\"Datasets/global-country-information.csv\")\n",
    "print(city_daily_temperature_df.shape)\n",
    "print(global_country_info_df.shape)"
   ]
  },
  {
   "cell_type": "code",
   "execution_count": null,
   "metadata": {},
   "outputs": [],
   "source": [
    "# Preprocessing City Daily Temperature\n",
    "# We only want to look at data from 2000 onward \n",
    "city_daily_temperature_df = city_daily_temperature_df[city_daily_temperature_df['Year'] >= 2000]\n",
    "city_daily_temperature_df = city_daily_temperature_df[city_daily_temperature_df['AvgTemperature'] <= 140]\n",
    "\n",
    "# Formatting the date \n",
    "city_daily_temperature_df['Date'] = pd.to_datetime(city_daily_temperature_df[['Year', 'Month', 'Day']], errors='coerce')\n",
    "\n",
    "# Checking for missing days for specific countries \n",
    "countries = city_daily_temperature_df['Country'].unique()\n",
    "full_date_ranges = []\n",
    "\n",
    "for country in countries:\n",
    "    country_data = city_daily_temperature_df[city_daily_temperature_df['Country'] == country]\n",
    "    start = country_data['Year'].min()\n",
    "    end = country_data['Year'].max()\n",
    "\n",
    "    country_date_range = pd.date_range(start=f'{start}-01-01', end=f'{end}-12-31', freq='D')\n",
    "\n",
    "    full_date_ranges.append(pd.DataFrame({\n",
    "        'Country': country,\n",
    "        'Date': country_date_range\n",
    "    }))\n",
    "\n",
    "full_dates_df = pd.concat(full_date_ranges)\n",
    "\n",
    "merged_df = pd.merge(full_dates_df, city_daily_temperature_df[['Country', 'Date']],\n",
    "                     on=['Country', 'Date'], how='left', indicator=True)\n",
    "missing_dates_df = merged_df[merged_df['_merge'] == 'left_only']\n",
    "print(missing_dates_df[['Country', 'Date']])\n",
    "\n",
    "# More data cleaning\n",
    "city_daily_temperature_df = city_daily_temperature_df[city_daily_temperature_df['AvgTemperature'] >= -90]\n",
    "\n",
    "# Checking if every country has data from same years\n",
    "country_years = city_daily_temperature_df.groupby('Country')['Year'].unique()\n",
    "all_years = set(city_daily_temperature_df['Year'].unique())\n",
    "incomplete_country_years = [country for country, years in country_years.items() if set(years) != all_years]\n",
    "print(\"Countries with missing years:\", incomplete_country_years)\n",
    "\n",
    "# Organizing data \n",
    "avg_temp_per_year = city_daily_temperature_df.groupby('Year')['AvgTemperature'].mean().reset_index()\n",
    "avg_temp_per_region_per_year = city_daily_temperature_df.groupby(['Region', 'Year'])['AvgTemperature'].mean().reset_index()\n",
    "avg_temp_per_country_per_year = city_daily_temperature_df.groupby(['Country', 'Year'])['AvgTemperature'].mean().reset_index()\n",
    "avg_temp_per_country_per_month = city_daily_temperature_df.groupby(['Country', 'Year', 'Month'])['AvgTemperature'].mean().reset_index()\n",
    "\n",
    "# Number of countries\n",
    "unique_countries = city_daily_temperature_df['Country'].unique()\n",
    "num_countries = len(unique_countries)\n",
    "\n",
    "# print(\"Unique\", unique_countries)\n",
    "# print(\"Number of countries\", num_countries)\n",
    "# print(\"Average Temperature Per Year\")\n",
    "# print(avg_temp_per_year)\n",
    "# print(\"Average Temperature Per Region by Year\")\n",
    "# print(avg_temp_per_region_per_year)\n",
    "# print(\"Average Temperature Per Country by Year\") \n",
    "# print(avg_temp_per_country_per_year)\n",
    "# print(\"Average Temperature Per Country by Month\")\n",
    "# print(avg_temp_per_country_per_month)"
   ]
  },
  {
   "cell_type": "code",
   "execution_count": 60,
   "metadata": {},
   "outputs": [],
   "source": [
    "# Preprocessing Global Country Information"
   ]
  }
 ],
 "metadata": {
  "kernelspec": {
   "display_name": ".venv",
   "language": "python",
   "name": "python3"
  },
  "language_info": {
   "codemirror_mode": {
    "name": "ipython",
    "version": 3
   },
   "file_extension": ".py",
   "mimetype": "text/x-python",
   "name": "python",
   "nbconvert_exporter": "python",
   "pygments_lexer": "ipython3",
   "version": "3.11.3"
  }
 },
 "nbformat": 4,
 "nbformat_minor": 2
}
